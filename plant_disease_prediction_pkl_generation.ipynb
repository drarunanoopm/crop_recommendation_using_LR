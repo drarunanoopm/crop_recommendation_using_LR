{
  "nbformat": 4,
  "nbformat_minor": 0,
  "metadata": {
    "colab": {
      "provenance": []
    },
    "kernelspec": {
      "name": "python3",
      "display_name": "Python 3"
    },
    "language_info": {
      "name": "python"
    }
  },
  "cells": [
    {
      "cell_type": "code",
      "execution_count": null,
      "metadata": {
        "colab": {
          "base_uri": "https://localhost:8080/"
        },
        "collapsed": true,
        "id": "NMckPReX_-Q_",
        "outputId": "23a76c63-66eb-4025-d62e-66287079f6aa"
      },
      "outputs": [
        {
          "output_type": "stream",
          "name": "stdout",
          "text": [
            "   Nitrogen  Phosphorus  Potassium  Temperature   Humidity  pH_Value  \\\n",
            "0        90          42         43    20.879744  82.002744  6.502985   \n",
            "1        85          58         41    21.770462  80.319644  7.038096   \n",
            "2        60          55         44    23.004459  82.320763  7.840207   \n",
            "3        74          35         40    26.491096  80.158363  6.980401   \n",
            "4        78          42         42    20.130175  81.604873  7.628473   \n",
            "\n",
            "     Rainfall  Crop  \n",
            "0  202.935536  Rice  \n",
            "1  226.655537  Rice  \n",
            "2  263.964248  Rice  \n",
            "3  242.864034  Rice  \n",
            "4  262.717340  Rice  \n",
            "<class 'pandas.core.frame.DataFrame'>\n",
            "RangeIndex: 2200 entries, 0 to 2199\n",
            "Data columns (total 8 columns):\n",
            " #   Column       Non-Null Count  Dtype  \n",
            "---  ------       --------------  -----  \n",
            " 0   Nitrogen     2200 non-null   int64  \n",
            " 1   Phosphorus   2200 non-null   int64  \n",
            " 2   Potassium    2200 non-null   int64  \n",
            " 3   Temperature  2200 non-null   float64\n",
            " 4   Humidity     2200 non-null   float64\n",
            " 5   pH_Value     2200 non-null   float64\n",
            " 6   Rainfall     2200 non-null   float64\n",
            " 7   Crop         2200 non-null   object \n",
            "dtypes: float64(4), int64(3), object(1)\n",
            "memory usage: 137.6+ KB\n",
            "None\n",
            "Model Accuracy: 95.45%\n"
          ]
        },
        {
          "output_type": "stream",
          "name": "stderr",
          "text": [
            "/usr/local/lib/python3.10/dist-packages/sklearn/linear_model/_logistic.py:469: ConvergenceWarning: lbfgs failed to converge (status=1):\n",
            "STOP: TOTAL NO. of ITERATIONS REACHED LIMIT.\n",
            "\n",
            "Increase the number of iterations (max_iter) or scale the data as shown in:\n",
            "    https://scikit-learn.org/stable/modules/preprocessing.html\n",
            "Please also refer to the documentation for alternative solver options:\n",
            "    https://scikit-learn.org/stable/modules/linear_model.html#logistic-regression\n",
            "  n_iter_i = _check_optimize_result(\n"
          ]
        }
      ],
      "source": [
        "#Using ipynb , I have created pkl model.\n",
        "#Dr.Arun Anoop M., Associate Professor, Dept. of CSE, VCET Puttur.\n",
        "\n",
        "\n",
        "# Step 1: Import necessary libraries\n",
        "import pandas as pd\n",
        "import numpy as np\n",
        "from sklearn.model_selection import train_test_split\n",
        "from sklearn.preprocessing import StandardScaler\n",
        "from sklearn.linear_model import LogisticRegression\n",
        "import pickle as pkl\n",
        "from sklearn.metrics import accuracy_score\n",
        "\n",
        "\n",
        "data = pd.read_csv('/content/Crop_Recommendation.csv')\n",
        "\n",
        "print(data.head())\n",
        "print(data.info())\n",
        "\n",
        "\n",
        "data = data.dropna()\n",
        "\n",
        "X = data.drop('Crop', axis=1)  # Drop the target column from features\n",
        "y = data['Crop']  # Target variable (crop)\n",
        "\n",
        "\n",
        "# Step 6: Split the data into training and testing sets\n",
        "X_train, X_test, y_train, y_test = train_test_split(X, y, test_size=0.3, random_state=42)\n",
        "\n",
        "# Step 8: Initialize the Logistic Regression model\n",
        "logistic_model = LogisticRegression(max_iter=200)\n",
        "\n",
        "# Step 9: Train the Logistic Regression model\n",
        "logistic_model.fit(X_train, y_train)\n",
        "\n",
        "# Step 10: Evaluate the model on the test set\n",
        "y_pred = logistic_model.predict(X_test)\n",
        "accuracy = accuracy_score(y_test, y_pred)\n",
        "print(f\"Model Accuracy: {accuracy * 100:.2f}%\")\n",
        "\n",
        "# Step 11: Save the trained model to a .pkl file\n",
        "model_filename = 'logistic_model.pkl'\n",
        "with open(model_filename, 'wb') as file:\n",
        "    pkl.dump(logistic_model, file)\n",
        "\n",
        "with open(model_filename, 'rb') as file:\n",
        "    loaded_model = pkl.load(file)"
      ]
    },
    {
      "cell_type": "code",
      "source": [],
      "metadata": {
        "id": "zE9x3xt0BeBZ"
      },
      "execution_count": null,
      "outputs": []
    }
  ]
}